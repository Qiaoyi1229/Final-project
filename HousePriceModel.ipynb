{
 "cells": [
  {
   "cell_type": "markdown",
   "metadata": {},
   "source": [
    "# 数据读取"
   ]
  },
  {
   "cell_type": "code",
   "execution_count": 154,
   "metadata": {},
   "outputs": [
    {
     "name": "stdout",
     "output_type": "stream",
     "text": [
      "qingyang_yanshikou.csv 'gbk' codec can't decode byte 0xfb in position 2539: illegal multibyte sequence\n"
     ]
    },
    {
     "data": {
      "text/html": [
       "<div>\n",
       "<style scoped>\n",
       "    .dataframe tbody tr th:only-of-type {\n",
       "        vertical-align: middle;\n",
       "    }\n",
       "\n",
       "    .dataframe tbody tr th {\n",
       "        vertical-align: top;\n",
       "    }\n",
       "\n",
       "    .dataframe thead th {\n",
       "        text-align: right;\n",
       "    }\n",
       "</style>\n",
       "<table border=\"1\" class=\"dataframe\">\n",
       "  <thead>\n",
       "    <tr style=\"text-align: right;\">\n",
       "      <th></th>\n",
       "      <th>date</th>\n",
       "      <th>region</th>\n",
       "      <th>area</th>\n",
       "      <th>rentType</th>\n",
       "      <th>buildingName</th>\n",
       "      <th>houseType</th>\n",
       "      <th>roomTowards</th>\n",
       "      <th>size</th>\n",
       "      <th>value</th>\n",
       "    </tr>\n",
       "  </thead>\n",
       "  <tbody>\n",
       "    <tr>\n",
       "      <th>0</th>\n",
       "      <td>20210127</td>\n",
       "      <td>成华</td>\n",
       "      <td>八里小区</td>\n",
       "      <td>整租</td>\n",
       "      <td>万基蓝麟</td>\n",
       "      <td>3室2厅2卫</td>\n",
       "      <td>南</td>\n",
       "      <td>96平米</td>\n",
       "      <td>2600</td>\n",
       "    </tr>\n",
       "    <tr>\n",
       "      <th>1</th>\n",
       "      <td>20210127</td>\n",
       "      <td>成华</td>\n",
       "      <td>八里小区</td>\n",
       "      <td>整租</td>\n",
       "      <td>中铁二局玛塞城</td>\n",
       "      <td>3室1厅2卫</td>\n",
       "      <td>南</td>\n",
       "      <td>89平米</td>\n",
       "      <td>2800</td>\n",
       "    </tr>\n",
       "    <tr>\n",
       "      <th>2</th>\n",
       "      <td>20210127</td>\n",
       "      <td>成华</td>\n",
       "      <td>八里小区</td>\n",
       "      <td>整租</td>\n",
       "      <td>万基蓝麟</td>\n",
       "      <td>2室1厅1卫</td>\n",
       "      <td>东</td>\n",
       "      <td>72平米</td>\n",
       "      <td>2450</td>\n",
       "    </tr>\n",
       "    <tr>\n",
       "      <th>3</th>\n",
       "      <td>20210127</td>\n",
       "      <td>成华</td>\n",
       "      <td>八里小区</td>\n",
       "      <td>合租</td>\n",
       "      <td>府青惠园</td>\n",
       "      <td>5室0厅2卫</td>\n",
       "      <td>东南</td>\n",
       "      <td>13平米</td>\n",
       "      <td>550</td>\n",
       "    </tr>\n",
       "    <tr>\n",
       "      <th>4</th>\n",
       "      <td>20210127</td>\n",
       "      <td>成华</td>\n",
       "      <td>八里小区</td>\n",
       "      <td>整租</td>\n",
       "      <td>浅水半岛三期</td>\n",
       "      <td>2室1厅1卫</td>\n",
       "      <td>东北</td>\n",
       "      <td>70平米</td>\n",
       "      <td>2200</td>\n",
       "    </tr>\n",
       "  </tbody>\n",
       "</table>\n",
       "</div>"
      ],
      "text/plain": [
       "       date region  area rentType buildingName houseType roomTowards  size  \\\n",
       "0  20210127     成华  八里小区       整租         万基蓝麟    3室2厅2卫           南  96平米   \n",
       "1  20210127     成华  八里小区       整租      中铁二局玛塞城    3室1厅2卫           南  89平米   \n",
       "2  20210127     成华  八里小区       整租         万基蓝麟    2室1厅1卫           东  72平米   \n",
       "3  20210127     成华  八里小区       合租         府青惠园    5室0厅2卫          东南  13平米   \n",
       "4  20210127     成华  八里小区       整租       浅水半岛三期    2室1厅1卫          东北  70平米   \n",
       "\n",
       "  value  \n",
       "0  2600  \n",
       "1  2800  \n",
       "2  2450  \n",
       "3   550  \n",
       "4  2200  "
      ]
     },
     "execution_count": 154,
     "metadata": {},
     "output_type": "execute_result"
    }
   ],
   "source": [
    "import matplotlib.pyplot as plt\n",
    "%matplotlib inline\n",
    "import pandas as pd\n",
    "\n",
    "files = os.listdir('data')\n",
    "dfs = []\n",
    "\n",
    "col_name = ['date', 'region', 'area', 'rentType', 'buildingName', 'houseType', 'roomTowards', 'size', 'value']\n",
    "for file in files:\n",
    "    try:\n",
    "        df = pd.read_csv('data/' + file, names=col_name, engine=\"python\", encoding='gbk')\n",
    "        dfs.append(df)\n",
    "    except Exception as e:\n",
    "        print(file, e)\n",
    "df = pd.concat(dfs, ignore_index=True)\n",
    "df.head(5)"
   ]
  },
  {
   "cell_type": "markdown",
   "metadata": {},
   "source": [
    "# 数据预处理"
   ]
  },
  {
   "cell_type": "markdown",
   "metadata": {},
   "source": [
    "### 数值处理"
   ]
  },
  {
   "cell_type": "code",
   "execution_count": 155,
   "metadata": {},
   "outputs": [],
   "source": [
    "import numpy as np\n",
    "\n",
    "def process_value(s):\n",
    "    \"\"\"value为object类型，需要解析得到数字\"\"\"\n",
    "    if pd.isna(s):\n",
    "        return s\n",
    "    try:\n",
    "        value = float(s)\n",
    "        if value<0 or value>100000:\n",
    "            value = np.nan\n",
    "    except Exception as e:\n",
    "        value = np.nan\n",
    "    return value\n",
    "\n",
    "def process_size(s):\n",
    "    \"\"\"value为原始字符串xx平米，需要解析得到数字\"\"\"\n",
    "    if pd.isna(s):\n",
    "        return s\n",
    "    s = s.strip(\"平米\")\n",
    "    try:\n",
    "        value = float(s)\n",
    "        if value<0 or value>500:\n",
    "            value = np.nan\n",
    "    except Exception as e:\n",
    "        value = np.nan\n",
    "    return value\n",
    "\n",
    "\n",
    "def process_living_room(s):\n",
    "    \"\"\"处理原始房型：得到卧室的数量\"\"\"\n",
    "    if pd.isna(s):\n",
    "        return s\n",
    "    try:\n",
    "        value = float(s[0])\n",
    "    except Exception as e:\n",
    "        value = np.nan\n",
    "    return value\n",
    "\n",
    "def process_bed_room(s):\n",
    "    \"\"\"处理原始房型：得到客厅的数量\"\"\"\n",
    "    if pd.isna(s):\n",
    "        return s\n",
    "    try:\n",
    "        value = float(s[2])\n",
    "    except Exception as e:\n",
    "        value = np.nan\n",
    "    return value\n",
    "\n",
    "def process_rest_room(s):\n",
    "    \"\"\"处理原始房型：得到卫生间的数量\"\"\"\n",
    "    if pd.isna(s):\n",
    "        return s\n",
    "    try:\n",
    "        value = float(s[4])\n",
    "    except Exception as e:\n",
    "        value = np.nan\n",
    "    return value\n",
    "\n",
    "def process_room(s):\n",
    "    \"\"\"处理原始房型：得到所有房间的数量\"\"\"\n",
    "    if pd.isna(s):\n",
    "        return s\n",
    "    try:\n",
    "        value = float(s[0]) + float(s[2]) + float(s[4])\n",
    "    except Exception as e:\n",
    "        value = np.nan\n",
    "    return value\n",
    "\n",
    "df[\"value\"] = df[\"value\"].map(process_value)\n",
    "df[\"size\"] = df[\"size\"].map(process_size)\n",
    "df[\"livingRoom\"] = df[\"houseType\"].map(process_living_room)\n",
    "df[\"bedRoom\"] = df[\"houseType\"].map(process_bed_room)\n",
    "df[\"restRoom\"] = df[\"houseType\"].map(process_rest_room)\n",
    "df[\"totalRoom\"] = df[\"houseType\"].map(process_room)"
   ]
  },
  {
   "cell_type": "markdown",
   "metadata": {},
   "source": [
    "# 数据探索"
   ]
  },
  {
   "cell_type": "code",
   "execution_count": 156,
   "metadata": {},
   "outputs": [
    {
     "data": {
      "text/plain": [
       "Index(['date', 'region', 'area', 'rentType', 'buildingName', 'houseType',\n",
       "       'roomTowards', 'size', 'value', 'livingRoom', 'bedRoom', 'restRoom',\n",
       "       'totalRoom'],\n",
       "      dtype='object')"
      ]
     },
     "execution_count": 156,
     "metadata": {},
     "output_type": "execute_result"
    }
   ],
   "source": [
    "# head默认显示5条数据，可以指定显示几条\n",
    "df.head(5)\n",
    "df.columns"
   ]
  },
  {
   "cell_type": "code",
   "execution_count": 157,
   "metadata": {},
   "outputs": [
    {
     "name": "stdout",
     "output_type": "stream",
     "text": [
      "(31086, 13)\n",
      "date             object\n",
      "region           object\n",
      "area             object\n",
      "rentType         object\n",
      "buildingName     object\n",
      "houseType        object\n",
      "roomTowards      object\n",
      "size            float64\n",
      "value           float64\n",
      "livingRoom      float64\n",
      "bedRoom         float64\n",
      "restRoom        float64\n",
      "totalRoom       float64\n",
      "dtype: object\n"
     ]
    }
   ],
   "source": [
    "# 查看数据维度\n",
    "print(df.shape)\n",
    "# 查看数据类型\n",
    "print(df.dtypes)"
   ]
  },
  {
   "cell_type": "code",
   "execution_count": 158,
   "metadata": {},
   "outputs": [
    {
     "data": {
      "text/html": [
       "<div>\n",
       "<style scoped>\n",
       "    .dataframe tbody tr th:only-of-type {\n",
       "        vertical-align: middle;\n",
       "    }\n",
       "\n",
       "    .dataframe tbody tr th {\n",
       "        vertical-align: top;\n",
       "    }\n",
       "\n",
       "    .dataframe thead th {\n",
       "        text-align: right;\n",
       "    }\n",
       "</style>\n",
       "<table border=\"1\" class=\"dataframe\">\n",
       "  <thead>\n",
       "    <tr style=\"text-align: right;\">\n",
       "      <th></th>\n",
       "      <th>size</th>\n",
       "      <th>value</th>\n",
       "      <th>livingRoom</th>\n",
       "      <th>bedRoom</th>\n",
       "      <th>restRoom</th>\n",
       "      <th>totalRoom</th>\n",
       "    </tr>\n",
       "  </thead>\n",
       "  <tbody>\n",
       "    <tr>\n",
       "      <th>count</th>\n",
       "      <td>31021.000000</td>\n",
       "      <td>31010.000000</td>\n",
       "      <td>31075.000000</td>\n",
       "      <td>31075.000000</td>\n",
       "      <td>31080.000000</td>\n",
       "      <td>31074.000000</td>\n",
       "    </tr>\n",
       "    <tr>\n",
       "      <th>mean</th>\n",
       "      <td>77.505400</td>\n",
       "      <td>2578.515124</td>\n",
       "      <td>2.575865</td>\n",
       "      <td>1.212389</td>\n",
       "      <td>1.334299</td>\n",
       "      <td>5.122482</td>\n",
       "    </tr>\n",
       "    <tr>\n",
       "      <th>std</th>\n",
       "      <td>43.204651</td>\n",
       "      <td>2222.238123</td>\n",
       "      <td>1.140312</td>\n",
       "      <td>0.587687</td>\n",
       "      <td>0.580268</td>\n",
       "      <td>1.851065</td>\n",
       "    </tr>\n",
       "    <tr>\n",
       "      <th>min</th>\n",
       "      <td>6.000000</td>\n",
       "      <td>200.000000</td>\n",
       "      <td>1.000000</td>\n",
       "      <td>0.000000</td>\n",
       "      <td>0.000000</td>\n",
       "      <td>1.000000</td>\n",
       "    </tr>\n",
       "    <tr>\n",
       "      <th>25%</th>\n",
       "      <td>47.000000</td>\n",
       "      <td>1500.000000</td>\n",
       "      <td>2.000000</td>\n",
       "      <td>1.000000</td>\n",
       "      <td>1.000000</td>\n",
       "      <td>4.000000</td>\n",
       "    </tr>\n",
       "    <tr>\n",
       "      <th>50%</th>\n",
       "      <td>78.000000</td>\n",
       "      <td>2200.000000</td>\n",
       "      <td>3.000000</td>\n",
       "      <td>1.000000</td>\n",
       "      <td>1.000000</td>\n",
       "      <td>5.000000</td>\n",
       "    </tr>\n",
       "    <tr>\n",
       "      <th>75%</th>\n",
       "      <td>97.000000</td>\n",
       "      <td>3000.000000</td>\n",
       "      <td>3.000000</td>\n",
       "      <td>2.000000</td>\n",
       "      <td>2.000000</td>\n",
       "      <td>7.000000</td>\n",
       "    </tr>\n",
       "    <tr>\n",
       "      <th>max</th>\n",
       "      <td>490.000000</td>\n",
       "      <td>55000.000000</td>\n",
       "      <td>9.000000</td>\n",
       "      <td>9.000000</td>\n",
       "      <td>7.000000</td>\n",
       "      <td>21.000000</td>\n",
       "    </tr>\n",
       "  </tbody>\n",
       "</table>\n",
       "</div>"
      ],
      "text/plain": [
       "               size         value    livingRoom       bedRoom      restRoom  \\\n",
       "count  31021.000000  31010.000000  31075.000000  31075.000000  31080.000000   \n",
       "mean      77.505400   2578.515124      2.575865      1.212389      1.334299   \n",
       "std       43.204651   2222.238123      1.140312      0.587687      0.580268   \n",
       "min        6.000000    200.000000      1.000000      0.000000      0.000000   \n",
       "25%       47.000000   1500.000000      2.000000      1.000000      1.000000   \n",
       "50%       78.000000   2200.000000      3.000000      1.000000      1.000000   \n",
       "75%       97.000000   3000.000000      3.000000      2.000000      2.000000   \n",
       "max      490.000000  55000.000000      9.000000      9.000000      7.000000   \n",
       "\n",
       "          totalRoom  \n",
       "count  31074.000000  \n",
       "mean       5.122482  \n",
       "std        1.851065  \n",
       "min        1.000000  \n",
       "25%        4.000000  \n",
       "50%        5.000000  \n",
       "75%        7.000000  \n",
       "max       21.000000  "
      ]
     },
     "execution_count": 158,
     "metadata": {},
     "output_type": "execute_result"
    }
   ],
   "source": [
    "\"\"\"查看一些汇总信息，探索各个维度值的分布情况.  \n",
    "对于数值型数据describe方法会统计\n",
    "count：总数\n",
    "mean：均值\n",
    "std：标准差\n",
    "min：最小值\n",
    "25%：第一四分位数或较小四分位数（Q1）：等于该样本中所有数值由小到大排列后第25%的数字。\n",
    "50%：第二四分位数或中位数（Q2）：等于该样本中所有数值由小到大排列后第50%的数字。\n",
    "75%：第三四分位数或较大四分位数（Q3）：等于该样本中所有数值由小到大排列后第75%的数字。\n",
    "max：最大值。5个方面的信息\"\"\"\n",
    "df.describe()"
   ]
  },
  {
   "cell_type": "code",
   "execution_count": 159,
   "metadata": {},
   "outputs": [
    {
     "data": {
      "text/html": [
       "<div>\n",
       "<style scoped>\n",
       "    .dataframe tbody tr th:only-of-type {\n",
       "        vertical-align: middle;\n",
       "    }\n",
       "\n",
       "    .dataframe tbody tr th {\n",
       "        vertical-align: top;\n",
       "    }\n",
       "\n",
       "    .dataframe thead th {\n",
       "        text-align: right;\n",
       "    }\n",
       "</style>\n",
       "<table border=\"1\" class=\"dataframe\">\n",
       "  <thead>\n",
       "    <tr style=\"text-align: right;\">\n",
       "      <th></th>\n",
       "      <th>date</th>\n",
       "      <th>region</th>\n",
       "      <th>area</th>\n",
       "      <th>rentType</th>\n",
       "      <th>buildingName</th>\n",
       "      <th>houseType</th>\n",
       "      <th>roomTowards</th>\n",
       "    </tr>\n",
       "  </thead>\n",
       "  <tbody>\n",
       "    <tr>\n",
       "      <th>count</th>\n",
       "      <td>31086</td>\n",
       "      <td>31085</td>\n",
       "      <td>31085</td>\n",
       "      <td>31085</td>\n",
       "      <td>31085</td>\n",
       "      <td>31085</td>\n",
       "      <td>31085</td>\n",
       "    </tr>\n",
       "    <tr>\n",
       "      <th>unique</th>\n",
       "      <td>2</td>\n",
       "      <td>23</td>\n",
       "      <td>171</td>\n",
       "      <td>3</td>\n",
       "      <td>4487</td>\n",
       "      <td>111</td>\n",
       "      <td>67</td>\n",
       "    </tr>\n",
       "    <tr>\n",
       "      <th>top</th>\n",
       "      <td>20210127</td>\n",
       "      <td>锦江</td>\n",
       "      <td>犀浦</td>\n",
       "      <td>整租</td>\n",
       "      <td>誉峰三期</td>\n",
       "      <td>2室1厅1卫</td>\n",
       "      <td>东南</td>\n",
       "    </tr>\n",
       "    <tr>\n",
       "      <th>freq</th>\n",
       "      <td>31085</td>\n",
       "      <td>4367</td>\n",
       "      <td>1082</td>\n",
       "      <td>26644</td>\n",
       "      <td>176</td>\n",
       "      <td>5769</td>\n",
       "      <td>10429</td>\n",
       "    </tr>\n",
       "  </tbody>\n",
       "</table>\n",
       "</div>"
      ],
      "text/plain": [
       "            date region   area rentType buildingName houseType roomTowards\n",
       "count      31086  31085  31085    31085        31085     31085       31085\n",
       "unique         2     23    171        3         4487       111          67\n",
       "top     20210127     锦江     犀浦       整租         誉峰三期    2室1厅1卫          东南\n",
       "freq       31085   4367   1082    26644          176      5769       10429"
      ]
     },
     "execution_count": 159,
     "metadata": {},
     "output_type": "execute_result"
    }
   ],
   "source": [
    "import numpy as np\n",
    "\"\"\"\n",
    "非数值describe方法会统计\n",
    "count：总数\n",
    "unique：去重后的个数\n",
    "top：出现频率最高的值\n",
    "freq：出现最高频率的值的频率\"\"\"\n",
    "df.describe(exclude=[np.number])"
   ]
  },
  {
   "cell_type": "code",
   "execution_count": 160,
   "metadata": {},
   "outputs": [
    {
     "data": {
      "text/html": [
       "<div>\n",
       "<style scoped>\n",
       "    .dataframe tbody tr th:only-of-type {\n",
       "        vertical-align: middle;\n",
       "    }\n",
       "\n",
       "    .dataframe tbody tr th {\n",
       "        vertical-align: top;\n",
       "    }\n",
       "\n",
       "    .dataframe thead th {\n",
       "        text-align: right;\n",
       "    }\n",
       "</style>\n",
       "<table border=\"1\" class=\"dataframe\">\n",
       "  <thead>\n",
       "    <tr style=\"text-align: right;\">\n",
       "      <th></th>\n",
       "      <th>size</th>\n",
       "      <th>value</th>\n",
       "      <th>livingRoom</th>\n",
       "      <th>bedRoom</th>\n",
       "      <th>restRoom</th>\n",
       "      <th>totalRoom</th>\n",
       "    </tr>\n",
       "  </thead>\n",
       "  <tbody>\n",
       "    <tr>\n",
       "      <th>size</th>\n",
       "      <td>1.000000</td>\n",
       "      <td>0.627653</td>\n",
       "      <td>0.198912</td>\n",
       "      <td>0.487868</td>\n",
       "      <td>0.369083</td>\n",
       "      <td>0.393446</td>\n",
       "    </tr>\n",
       "    <tr>\n",
       "      <th>value</th>\n",
       "      <td>0.627653</td>\n",
       "      <td>1.000000</td>\n",
       "      <td>0.057811</td>\n",
       "      <td>0.248578</td>\n",
       "      <td>0.276135</td>\n",
       "      <td>0.201299</td>\n",
       "    </tr>\n",
       "    <tr>\n",
       "      <th>livingRoom</th>\n",
       "      <td>0.198912</td>\n",
       "      <td>0.057811</td>\n",
       "      <td>1.000000</td>\n",
       "      <td>0.312392</td>\n",
       "      <td>0.589625</td>\n",
       "      <td>0.900033</td>\n",
       "    </tr>\n",
       "    <tr>\n",
       "      <th>bedRoom</th>\n",
       "      <td>0.487868</td>\n",
       "      <td>0.248578</td>\n",
       "      <td>0.312392</td>\n",
       "      <td>1.000000</td>\n",
       "      <td>0.359470</td>\n",
       "      <td>0.622623</td>\n",
       "    </tr>\n",
       "    <tr>\n",
       "      <th>restRoom</th>\n",
       "      <td>0.369083</td>\n",
       "      <td>0.276135</td>\n",
       "      <td>0.589625</td>\n",
       "      <td>0.359470</td>\n",
       "      <td>1.000000</td>\n",
       "      <td>0.790805</td>\n",
       "    </tr>\n",
       "    <tr>\n",
       "      <th>totalRoom</th>\n",
       "      <td>0.393446</td>\n",
       "      <td>0.201299</td>\n",
       "      <td>0.900033</td>\n",
       "      <td>0.622623</td>\n",
       "      <td>0.790805</td>\n",
       "      <td>1.000000</td>\n",
       "    </tr>\n",
       "  </tbody>\n",
       "</table>\n",
       "</div>"
      ],
      "text/plain": [
       "                size     value  livingRoom   bedRoom  restRoom  totalRoom\n",
       "size        1.000000  0.627653    0.198912  0.487868  0.369083   0.393446\n",
       "value       0.627653  1.000000    0.057811  0.248578  0.276135   0.201299\n",
       "livingRoom  0.198912  0.057811    1.000000  0.312392  0.589625   0.900033\n",
       "bedRoom     0.487868  0.248578    0.312392  1.000000  0.359470   0.622623\n",
       "restRoom    0.369083  0.276135    0.589625  0.359470  1.000000   0.790805\n",
       "totalRoom   0.393446  0.201299    0.900033  0.622623  0.790805   1.000000"
      ]
     },
     "execution_count": 160,
     "metadata": {},
     "output_type": "execute_result"
    }
   ],
   "source": [
    "\"\"\"有很多算法要求所选取的维度之间要没有相关性，所以探索维度之间的相关性也非常重要。\n",
    "Pandas提供了corr方法可以计算相关系数（默认计算皮尔逊相关系数）\"\"\"\n",
    "df.corr()"
   ]
  },
  {
   "cell_type": "markdown",
   "metadata": {},
   "source": [
    "### 可视化"
   ]
  },
  {
   "cell_type": "code",
   "execution_count": 161,
   "metadata": {},
   "outputs": [
    {
     "data": {
      "image/png": "[encoded data removed]",
      "text/plain": [
       "<Figure size 1080x720 with 6 Axes>"
      ]
     },
     "metadata": {
      "needs_background": "light"
     },
     "output_type": "display_data"
    }
   ],
   "source": [
    "## 通过直方图和密度图观察特征分布\n",
    "import matplotlib.pyplot as plt\n",
    "plt.rc('font', family='Times New Roman')\n",
    "plt.rcParams[\"figure.figsize\"] = (15,10)\n",
    "import seaborn as sns\n",
    "\n",
    "fig, axes = plt.subplots(2, 3)\n",
    "features = [\"value\", \"size\", \"livingRoom\", \"bedRoom\", \"restRoom\", \"totalRoom\"]\n",
    "\n",
    "for i, ax in zip(range(6), axes.flat):\n",
    "    feature_name = features[i]\n",
    "    feature = df[feature_name].fillna(0)\n",
    "    sns.distplot(feature, kde=False, ax=ax)\n",
    "plt.show()"
   ]
  },
  {
   "cell_type": "code",
   "execution_count": 162,
   "metadata": {},
   "outputs": [
    {
     "data": {
      "image/png": "[encoded data removed]",
      "text/plain": [
       "<Figure size 576x432 with 1 Axes>"
      ]
     },
     "metadata": {
      "needs_background": "light"
     },
     "output_type": "display_data"
    }
   ],
   "source": [
    "## 通过散点图观察相关性\n",
    "import matplotlib.pyplot as plt\n",
    "plt.rcParams[\"figure.figsize\"] = (8,6)\n",
    "fig, axs = plt.subplots(1, 1)\n",
    "\n",
    "plt.scatter(df[\"size\"], df[\"value\"], s=10)\n",
    "        # axs[0].set_xlim(0, 2)\n",
    "plt.xlabel(feature_name)\n",
    "plt.ylabel('value')\n",
    "plt.grid(True)\n",
    "\n",
    "plt.show()"
   ]
  },
  {
   "cell_type": "code",
   "execution_count": 163,
   "metadata": {},
   "outputs": [
    {
     "data": {
      "text/plain": [
       "<AxesSubplot:xlabel='livingRoom'>"
      ]
     },
     "execution_count": 163,
     "metadata": {},
     "output_type": "execute_result"
    },
    {
     "data": {
      "image/png": "[encoded data removed]",
      "text/plain": [
       "<Figure size 576x432 with 1 Axes>"
      ]
     },
     "metadata": {
      "needs_background": "light"
     },
     "output_type": "display_data"
    }
   ],
   "source": [
    "# 分组观察 livingRoom与value的关系\n",
    "df.groupby(['livingRoom'])['value'].mean().plot(kind='bar', figsize=(8, 6))"
   ]
  },
  {
   "cell_type": "code",
   "execution_count": 164,
   "metadata": {},
   "outputs": [
    {
     "data": {
      "text/plain": [
       "<AxesSubplot:xlabel='bedRoom'>"
      ]
     },
     "execution_count": 164,
     "metadata": {},
     "output_type": "execute_result"
    },
    {
     "data": {
      "image/png": "[encoded data removed]",
      "text/plain": [
       "<Figure size 576x432 with 1 Axes>"
      ]
     },
     "metadata": {
      "needs_background": "light"
     },
     "output_type": "display_data"
    }
   ],
   "source": [
    "# 分组观察 bedRoom与value的关系\n",
    "df.groupby(['bedRoom'])['value'].mean().plot(kind='bar', figsize=(8, 6))"
   ]
  },
  {
   "cell_type": "code",
   "execution_count": 165,
   "metadata": {},
   "outputs": [
    {
     "data": {
      "text/plain": [
       "<AxesSubplot:xlabel='restRoom'>"
      ]
     },
     "execution_count": 165,
     "metadata": {},
     "output_type": "execute_result"
    },
    {
     "data": {
      "image/png": "[encoded data removed]",
      "text/plain": [
       "<Figure size 576x432 with 1 Axes>"
      ]
     },
     "metadata": {
      "needs_background": "light"
     },
     "output_type": "display_data"
    }
   ],
   "source": [
    "# 分组观察 restRoom与value的关系\n",
    "df.groupby(['restRoom'])['value'].mean().plot(kind='bar', figsize=(8, 6))"
   ]
  },
  {
   "cell_type": "code",
   "execution_count": 166,
   "metadata": {},
   "outputs": [
    {
     "data": {
      "text/plain": [
       "<AxesSubplot:xlabel='region'>"
      ]
     },
     "execution_count": 166,
     "metadata": {},
     "output_type": "execute_result"
    },
    {
     "data": {
      "image/png": "[encoded data removed]",
      "text/plain": [
       "<Figure size 576x432 with 1 Axes>"
      ]
     },
     "metadata": {
      "needs_background": "light"
     },
     "output_type": "display_data"
    }
   ],
   "source": [
    "# 分组观察 restRoom与value的关系\n",
    "font = {\n",
    "    'family':'SimHei',\n",
    "    'weight':'bold',\n",
    "    'size':12\n",
    "}\n",
    "plt.rc(\"font\", **font)\n",
    "df = df.drop(df[df.region == \"蒲江\"].index) # region=蒲江有一条离群数据导致画图出现偏差，这里删除掉\n",
    "df.groupby(['region'])['value'].mean().plot(kind='bar', figsize=(8, 6))"
   ]
  },
  {
   "cell_type": "markdown",
   "metadata": {},
   "source": [
    "# 特征工程"
   ]
  },
  {
   "cell_type": "markdown",
   "metadata": {},
   "source": [
    "### 离散特征处理"
   ]
  },
  {
   "cell_type": "code",
   "execution_count": 167,
   "metadata": {},
   "outputs": [
    {
     "data": {
      "text/plain": [
       "\"\\ncat_si_step = ('si', SimpleImputer(strategy='most_frequent', fill_value=np.nan))\\ncat_ohe_step = ('ohe', OneHotEncoder(sparse=False, handle_unknown='ignore')) #独热\\ncat_steps = [cat_si_step, cat_ohe_step]\\n\\ncat_pipe = Pipeline(cat_steps)\\ncat_cols = ['date', 'region', 'area', 'rentType', 'buildingName', 'houseType',\\n       'roomTowards', 'size', 'value', 'livingRoom', 'bedRoom', 'restRoom',\\n       'totalRoom']\\n# cat_cols = ['Preferred Foot']\\n\\ncat_transformers = [('cat', cat_pipe, cat_cols)]\\n\\nct = ColumnTransformer(transformers=cat_transformers)\\ndf_transformed = ct.fit_transform(df)\\nprint(df_transformed.shape)\\n\""
      ]
     },
     "execution_count": 167,
     "metadata": {},
     "output_type": "execute_result"
    }
   ],
   "source": [
    "from sklearn.preprocessing import OneHotEncoder\n",
    "from sklearn.impute import SimpleImputer\n",
    "from sklearn.pipeline import Pipeline\n",
    "from sklearn.compose import ColumnTransformer\n",
    "from sklearn.preprocessing import StandardScaler\n",
    "\n",
    "# 这种写法虽然优雅，但是不方便保留列名，我们换下一种做法\n",
    "\"\"\"\n",
    "cat_si_step = ('si', SimpleImputer(strategy='most_frequent', fill_value=np.nan))\n",
    "cat_ohe_step = ('ohe', OneHotEncoder(sparse=False, handle_unknown='ignore')) #独热\n",
    "cat_steps = [cat_si_step, cat_ohe_step]\n",
    "\n",
    "cat_pipe = Pipeline(cat_steps)\n",
    "cat_cols = ['date', 'region', 'area', 'rentType', 'buildingName', 'houseType',\n",
    "       'roomTowards', 'size', 'value', 'livingRoom', 'bedRoom', 'restRoom',\n",
    "       'totalRoom']\n",
    "# cat_cols = ['Preferred Foot']\n",
    "\n",
    "cat_transformers = [('cat', cat_pipe, cat_cols)]\n",
    "\n",
    "ct = ColumnTransformer(transformers=cat_transformers)\n",
    "df_transformed = ct.fit_transform(df)\n",
    "print(df_transformed.shape)\n",
    "\"\"\""
   ]
  },
  {
   "cell_type": "code",
   "execution_count": 169,
   "metadata": {},
   "outputs": [
    {
     "data": {
      "text/html": [
       "<div>\n",
       "<style scoped>\n",
       "    .dataframe tbody tr th:only-of-type {\n",
       "        vertical-align: middle;\n",
       "    }\n",
       "\n",
       "    .dataframe tbody tr th {\n",
       "        vertical-align: top;\n",
       "    }\n",
       "\n",
       "    .dataframe thead th {\n",
       "        text-align: right;\n",
       "    }\n",
       "</style>\n",
       "<table border=\"1\" class=\"dataframe\">\n",
       "  <thead>\n",
       "    <tr style=\"text-align: right;\">\n",
       "      <th></th>\n",
       "      <th>region0</th>\n",
       "      <th>region1</th>\n",
       "      <th>region2</th>\n",
       "      <th>region3</th>\n",
       "      <th>region4</th>\n",
       "      <th>region5</th>\n",
       "      <th>region6</th>\n",
       "      <th>region7</th>\n",
       "      <th>region8</th>\n",
       "      <th>region9</th>\n",
       "      <th>...</th>\n",
       "      <th>roomTowards57</th>\n",
       "      <th>roomTowards58</th>\n",
       "      <th>roomTowards59</th>\n",
       "      <th>roomTowards60</th>\n",
       "      <th>roomTowards61</th>\n",
       "      <th>roomTowards62</th>\n",
       "      <th>roomTowards63</th>\n",
       "      <th>roomTowards64</th>\n",
       "      <th>roomTowards65</th>\n",
       "      <th>roomTowards66</th>\n",
       "    </tr>\n",
       "  </thead>\n",
       "  <tbody>\n",
       "    <tr>\n",
       "      <th>0</th>\n",
       "      <td>0.0</td>\n",
       "      <td>0.0</td>\n",
       "      <td>0.0</td>\n",
       "      <td>0.0</td>\n",
       "      <td>0.0</td>\n",
       "      <td>1.0</td>\n",
       "      <td>0.0</td>\n",
       "      <td>0.0</td>\n",
       "      <td>0.0</td>\n",
       "      <td>0.0</td>\n",
       "      <td>...</td>\n",
       "      <td>0.0</td>\n",
       "      <td>0.0</td>\n",
       "      <td>0.0</td>\n",
       "      <td>0.0</td>\n",
       "      <td>0.0</td>\n",
       "      <td>0.0</td>\n",
       "      <td>0.0</td>\n",
       "      <td>0.0</td>\n",
       "      <td>0.0</td>\n",
       "      <td>0.0</td>\n",
       "    </tr>\n",
       "    <tr>\n",
       "      <th>1</th>\n",
       "      <td>0.0</td>\n",
       "      <td>0.0</td>\n",
       "      <td>0.0</td>\n",
       "      <td>0.0</td>\n",
       "      <td>0.0</td>\n",
       "      <td>1.0</td>\n",
       "      <td>0.0</td>\n",
       "      <td>0.0</td>\n",
       "      <td>0.0</td>\n",
       "      <td>0.0</td>\n",
       "      <td>...</td>\n",
       "      <td>0.0</td>\n",
       "      <td>0.0</td>\n",
       "      <td>0.0</td>\n",
       "      <td>0.0</td>\n",
       "      <td>0.0</td>\n",
       "      <td>0.0</td>\n",
       "      <td>0.0</td>\n",
       "      <td>0.0</td>\n",
       "      <td>0.0</td>\n",
       "      <td>0.0</td>\n",
       "    </tr>\n",
       "    <tr>\n",
       "      <th>2</th>\n",
       "      <td>0.0</td>\n",
       "      <td>0.0</td>\n",
       "      <td>0.0</td>\n",
       "      <td>0.0</td>\n",
       "      <td>0.0</td>\n",
       "      <td>1.0</td>\n",
       "      <td>0.0</td>\n",
       "      <td>0.0</td>\n",
       "      <td>0.0</td>\n",
       "      <td>0.0</td>\n",
       "      <td>...</td>\n",
       "      <td>0.0</td>\n",
       "      <td>0.0</td>\n",
       "      <td>0.0</td>\n",
       "      <td>0.0</td>\n",
       "      <td>0.0</td>\n",
       "      <td>0.0</td>\n",
       "      <td>0.0</td>\n",
       "      <td>0.0</td>\n",
       "      <td>0.0</td>\n",
       "      <td>0.0</td>\n",
       "    </tr>\n",
       "    <tr>\n",
       "      <th>3</th>\n",
       "      <td>0.0</td>\n",
       "      <td>0.0</td>\n",
       "      <td>0.0</td>\n",
       "      <td>0.0</td>\n",
       "      <td>0.0</td>\n",
       "      <td>1.0</td>\n",
       "      <td>0.0</td>\n",
       "      <td>0.0</td>\n",
       "      <td>0.0</td>\n",
       "      <td>0.0</td>\n",
       "      <td>...</td>\n",
       "      <td>0.0</td>\n",
       "      <td>0.0</td>\n",
       "      <td>0.0</td>\n",
       "      <td>0.0</td>\n",
       "      <td>0.0</td>\n",
       "      <td>0.0</td>\n",
       "      <td>0.0</td>\n",
       "      <td>0.0</td>\n",
       "      <td>0.0</td>\n",
       "      <td>0.0</td>\n",
       "    </tr>\n",
       "    <tr>\n",
       "      <th>4</th>\n",
       "      <td>0.0</td>\n",
       "      <td>0.0</td>\n",
       "      <td>0.0</td>\n",
       "      <td>0.0</td>\n",
       "      <td>0.0</td>\n",
       "      <td>1.0</td>\n",
       "      <td>0.0</td>\n",
       "      <td>0.0</td>\n",
       "      <td>0.0</td>\n",
       "      <td>0.0</td>\n",
       "      <td>...</td>\n",
       "      <td>0.0</td>\n",
       "      <td>0.0</td>\n",
       "      <td>0.0</td>\n",
       "      <td>0.0</td>\n",
       "      <td>0.0</td>\n",
       "      <td>0.0</td>\n",
       "      <td>0.0</td>\n",
       "      <td>0.0</td>\n",
       "      <td>0.0</td>\n",
       "      <td>0.0</td>\n",
       "    </tr>\n",
       "  </tbody>\n",
       "</table>\n",
       "<p>5 rows × 262 columns</p>\n",
       "</div>"
      ],
      "text/plain": [
       "   region0  region1  region2  region3  region4  region5  region6  region7  \\\n",
       "0      0.0      0.0      0.0      0.0      0.0      1.0      0.0      0.0   \n",
       "1      0.0      0.0      0.0      0.0      0.0      1.0      0.0      0.0   \n",
       "2      0.0      0.0      0.0      0.0      0.0      1.0      0.0      0.0   \n",
       "3      0.0      0.0      0.0      0.0      0.0      1.0      0.0      0.0   \n",
       "4      0.0      0.0      0.0      0.0      0.0      1.0      0.0      0.0   \n",
       "\n",
       "   region8  region9      ...        roomTowards57  roomTowards58  \\\n",
       "0      0.0      0.0      ...                  0.0            0.0   \n",
       "1      0.0      0.0      ...                  0.0            0.0   \n",
       "2      0.0      0.0      ...                  0.0            0.0   \n",
       "3      0.0      0.0      ...                  0.0            0.0   \n",
       "4      0.0      0.0      ...                  0.0            0.0   \n",
       "\n",
       "   roomTowards59  roomTowards60  roomTowards61  roomTowards62  roomTowards63  \\\n",
       "0            0.0            0.0            0.0            0.0            0.0   \n",
       "1            0.0            0.0            0.0            0.0            0.0   \n",
       "2            0.0            0.0            0.0            0.0            0.0   \n",
       "3            0.0            0.0            0.0            0.0            0.0   \n",
       "4            0.0            0.0            0.0            0.0            0.0   \n",
       "\n",
       "   roomTowards64  roomTowards65  roomTowards66  \n",
       "0            0.0            0.0            0.0  \n",
       "1            0.0            0.0            0.0  \n",
       "2            0.0            0.0            0.0  \n",
       "3            0.0            0.0            0.0  \n",
       "4            0.0            0.0            0.0  \n",
       "\n",
       "[5 rows x 262 columns]"
      ]
     },
     "execution_count": 169,
     "metadata": {},
     "output_type": "execute_result"
    }
   ],
   "source": [
    "from sklearn.preprocessing import OneHotEncoder\n",
    "from sklearn.impute import SimpleImputer\n",
    "from sklearn.pipeline import Pipeline\n",
    "from sklearn.compose import ColumnTransformer\n",
    "from sklearn.preprocessing import StandardScaler\n",
    "# 缺失值填补\n",
    "si = SimpleImputer(strategy='most_frequent', missing_values=None)\n",
    "si2 = SimpleImputer(strategy='most_frequent', missing_values=np.nan)\n",
    "# 将类别字符串转为计算机可以识别的数字\n",
    "le = LabelEncoder()\n",
    "# 独热编码\n",
    "ohe = OneHotEncoder()\n",
    "\n",
    "# 选取的离散变量\n",
    "cat_cols = ['region', 'area', 'rentType','roomTowards']\n",
    "\n",
    "df[cat_cols] = si.fit_transform(df[cat_cols])\n",
    "df[cat_cols] = si2.fit_transform(df[cat_cols])\n",
    "cat_df = None\n",
    "for cat_col in cat_cols:\n",
    "    df[cat_col+'-encoded'] = le.fit_transform(df[cat_col].astype(str))\n",
    "    X = ohe.fit_transform(df[cat_col+'-encoded'].values.reshape(-1,1)).toarray()\n",
    "    dfOneHot = pd.DataFrame(X, columns = [cat_col+str(int(i)) for i in range(X.shape[1])])\n",
    "    cat_df = pd.concat([cat_df, dfOneHot], axis=1)\n",
    "\n",
    "## 查看离线特征\n",
    "cat_df.head()"
   ]
  },
  {
   "cell_type": "markdown",
   "metadata": {},
   "source": [
    "## 连续特征处理"
   ]
  },
  {
   "cell_type": "code",
   "execution_count": 170,
   "metadata": {},
   "outputs": [
    {
     "data": {
      "text/html": [
       "<div>\n",
       "<style scoped>\n",
       "    .dataframe tbody tr th:only-of-type {\n",
       "        vertical-align: middle;\n",
       "    }\n",
       "\n",
       "    .dataframe tbody tr th {\n",
       "        vertical-align: top;\n",
       "    }\n",
       "\n",
       "    .dataframe thead th {\n",
       "        text-align: right;\n",
       "    }\n",
       "</style>\n",
       "<table border=\"1\" class=\"dataframe\">\n",
       "  <thead>\n",
       "    <tr style=\"text-align: right;\">\n",
       "      <th></th>\n",
       "      <th>size</th>\n",
       "      <th>livingRoom</th>\n",
       "      <th>bedRoom</th>\n",
       "      <th>restRoom</th>\n",
       "      <th>totalRoom</th>\n",
       "    </tr>\n",
       "  </thead>\n",
       "  <tbody>\n",
       "    <tr>\n",
       "      <th>0</th>\n",
       "      <td>0.429006</td>\n",
       "      <td>0.371967</td>\n",
       "      <td>1.340602</td>\n",
       "      <td>1.147661</td>\n",
       "      <td>1.014709</td>\n",
       "    </tr>\n",
       "    <tr>\n",
       "      <th>1</th>\n",
       "      <td>0.266703</td>\n",
       "      <td>0.371967</td>\n",
       "      <td>-0.361294</td>\n",
       "      <td>1.147661</td>\n",
       "      <td>0.474316</td>\n",
       "    </tr>\n",
       "    <tr>\n",
       "      <th>2</th>\n",
       "      <td>-0.127461</td>\n",
       "      <td>-0.505183</td>\n",
       "      <td>-0.361294</td>\n",
       "      <td>-0.576021</td>\n",
       "      <td>-0.606472</td>\n",
       "    </tr>\n",
       "    <tr>\n",
       "      <th>3</th>\n",
       "      <td>-1.495441</td>\n",
       "      <td>2.126268</td>\n",
       "      <td>-2.063189</td>\n",
       "      <td>1.147661</td>\n",
       "      <td>1.014709</td>\n",
       "    </tr>\n",
       "    <tr>\n",
       "      <th>4</th>\n",
       "      <td>-0.173833</td>\n",
       "      <td>-0.505183</td>\n",
       "      <td>-0.361294</td>\n",
       "      <td>-0.576021</td>\n",
       "      <td>-0.606472</td>\n",
       "    </tr>\n",
       "  </tbody>\n",
       "</table>\n",
       "</div>"
      ],
      "text/plain": [
       "       size  livingRoom   bedRoom  restRoom  totalRoom\n",
       "0  0.429006    0.371967  1.340602  1.147661   1.014709\n",
       "1  0.266703    0.371967 -0.361294  1.147661   0.474316\n",
       "2 -0.127461   -0.505183 -0.361294 -0.576021  -0.606472\n",
       "3 -1.495441    2.126268 -2.063189  1.147661   1.014709\n",
       "4 -0.173833   -0.505183 -0.361294 -0.576021  -0.606472"
      ]
     },
     "execution_count": 170,
     "metadata": {},
     "output_type": "execute_result"
    }
   ],
   "source": [
    "# 选取的连续变量\n",
    "num_cols = ['size', 'livingRoom', 'bedRoom', 'restRoom', 'totalRoom']\n",
    "\n",
    "# 缺失值填补，用中位数\n",
    "num_si_step = ('si', SimpleImputer(strategy='median',missing_values=np.nan))\n",
    "# 均值-标准差归一化\n",
    "num_ss_step = ('ss', StandardScaler())\n",
    "num_steps = [num_si_step, num_ss_step]\n",
    "\n",
    "num_pipe = Pipeline(num_steps)\n",
    "num_transformers = [('num', num_pipe, num_cols)]\n",
    "\n",
    "ct = ColumnTransformer(transformers=num_transformers)\n",
    "\n",
    "num_transformed = ct.fit_transform(df)\n",
    "num_df = pd.DataFrame(num_transformed, columns=num_cols)\n",
    "\n",
    "## 查看连续特征\n",
    "num_df.head()"
   ]
  },
  {
   "cell_type": "code",
   "execution_count": 171,
   "metadata": {},
   "outputs": [],
   "source": [
    "# 处理Y值，NaN填充\n",
    "mean_ = df['value'].mean()\n",
    "df['value']= df['value'].fillna(mean_)"
   ]
  },
  {
   "cell_type": "markdown",
   "metadata": {},
   "source": [
    "## 特征选择"
   ]
  },
  {
   "cell_type": "code",
   "execution_count": 172,
   "metadata": {},
   "outputs": [
    {
     "name": "stdout",
     "output_type": "stream",
     "text": [
      "[262 192 193 265 264 173  19 266 109 102   8  66  31 143  12  21  91   7\n",
      " 127 255  16  15  79   9 241 155 263   0  82 189 100 110   5 184  27 188\n",
      " 135 122 156  36  34   6 106  20 183 167 138  37  73 237  54 114 175 160\n",
      " 120 191  55 136  85  42  30  28  80  45  88 166 111  90 229  47  94 194\n",
      " 131  14 169 124 195  97 116 147 218  43 145 162 206  17 178 123 141 115\n",
      " 172  53  46  10 170 250 231 104  78 154 125 148  62 187 226  76  65 144\n",
      "  23 107  24  52  99 137 117  33  51  13  49  57 168 181 152  69 254 108\n",
      "  95 157 140  40  32 133  98 142   2 119 256  56 185  18  50 128 247 150\n",
      " 209 126 149  11 165  48 186 182 103  26 134 220  59  61 236 208 158  22\n",
      " 197  25  38  96   4  83 260 153 118 179 239 242 190 201 257 243 101  74\n",
      "  44 204 176 199  84 159 129  70  71  93  35 259 244  58  75 221 207 232\n",
      " 219 177 230  63 139 202 253 130  64 258   3  87  81   1 235 161 112  60\n",
      " 225 261 205 211  72 164 233 105 227 216  41  29  89 200 203 223 240 213\n",
      " 238 198 252 180 151 224 248 214  77 234 249  86  67 222 210  39  68 121\n",
      " 217  92 245 132 171 212 246 163 174 251 215 196 113 228 146]\n",
      "特征重要性： Index(['size', 'rentType0', 'rentType1', 'restRoom', 'bedRoom', 'area151',\n",
      "       'region19', 'totalRoom', 'area87', 'area80',\n",
      "       ...\n",
      "       'roomTowards17', 'roomTowards51', 'area141', 'area152', 'roomTowards56',\n",
      "       'roomTowards20', 'roomTowards1', 'area91', 'roomTowards33', 'area124'],\n",
      "      dtype='object', length=267)\n"
     ]
    },
    {
     "data": {
      "text/html": [
       "<div>\n",
       "<style scoped>\n",
       "    .dataframe tbody tr th:only-of-type {\n",
       "        vertical-align: middle;\n",
       "    }\n",
       "\n",
       "    .dataframe tbody tr th {\n",
       "        vertical-align: top;\n",
       "    }\n",
       "\n",
       "    .dataframe thead th {\n",
       "        text-align: right;\n",
       "    }\n",
       "</style>\n",
       "<table border=\"1\" class=\"dataframe\">\n",
       "  <thead>\n",
       "    <tr style=\"text-align: right;\">\n",
       "      <th></th>\n",
       "      <th>size</th>\n",
       "      <th>rentType0</th>\n",
       "      <th>rentType1</th>\n",
       "      <th>restRoom</th>\n",
       "      <th>bedRoom</th>\n",
       "      <th>area151</th>\n",
       "      <th>region19</th>\n",
       "      <th>totalRoom</th>\n",
       "      <th>area87</th>\n",
       "      <th>area80</th>\n",
       "      <th>region8</th>\n",
       "      <th>area44</th>\n",
       "      <th>area9</th>\n",
       "      <th>area121</th>\n",
       "      <th>region12</th>\n",
       "      <th>region21</th>\n",
       "      <th>area69</th>\n",
       "      <th>region7</th>\n",
       "      <th>area105</th>\n",
       "      <th>roomTowards60</th>\n",
       "    </tr>\n",
       "  </thead>\n",
       "  <tbody>\n",
       "    <tr>\n",
       "      <th>0</th>\n",
       "      <td>0.429006</td>\n",
       "      <td>0.0</td>\n",
       "      <td>1.0</td>\n",
       "      <td>1.147661</td>\n",
       "      <td>1.340602</td>\n",
       "      <td>0.0</td>\n",
       "      <td>0.0</td>\n",
       "      <td>1.014709</td>\n",
       "      <td>0.0</td>\n",
       "      <td>0.0</td>\n",
       "      <td>0.0</td>\n",
       "      <td>0.0</td>\n",
       "      <td>0.0</td>\n",
       "      <td>0.0</td>\n",
       "      <td>0.0</td>\n",
       "      <td>0.0</td>\n",
       "      <td>0.0</td>\n",
       "      <td>0.0</td>\n",
       "      <td>0.0</td>\n",
       "      <td>0.0</td>\n",
       "    </tr>\n",
       "    <tr>\n",
       "      <th>1</th>\n",
       "      <td>0.266703</td>\n",
       "      <td>0.0</td>\n",
       "      <td>1.0</td>\n",
       "      <td>1.147661</td>\n",
       "      <td>-0.361294</td>\n",
       "      <td>0.0</td>\n",
       "      <td>0.0</td>\n",
       "      <td>0.474316</td>\n",
       "      <td>0.0</td>\n",
       "      <td>0.0</td>\n",
       "      <td>0.0</td>\n",
       "      <td>0.0</td>\n",
       "      <td>0.0</td>\n",
       "      <td>0.0</td>\n",
       "      <td>0.0</td>\n",
       "      <td>0.0</td>\n",
       "      <td>0.0</td>\n",
       "      <td>0.0</td>\n",
       "      <td>0.0</td>\n",
       "      <td>0.0</td>\n",
       "    </tr>\n",
       "    <tr>\n",
       "      <th>2</th>\n",
       "      <td>-0.127461</td>\n",
       "      <td>0.0</td>\n",
       "      <td>1.0</td>\n",
       "      <td>-0.576021</td>\n",
       "      <td>-0.361294</td>\n",
       "      <td>0.0</td>\n",
       "      <td>0.0</td>\n",
       "      <td>-0.606472</td>\n",
       "      <td>0.0</td>\n",
       "      <td>0.0</td>\n",
       "      <td>0.0</td>\n",
       "      <td>0.0</td>\n",
       "      <td>0.0</td>\n",
       "      <td>0.0</td>\n",
       "      <td>0.0</td>\n",
       "      <td>0.0</td>\n",
       "      <td>0.0</td>\n",
       "      <td>0.0</td>\n",
       "      <td>0.0</td>\n",
       "      <td>0.0</td>\n",
       "    </tr>\n",
       "    <tr>\n",
       "      <th>3</th>\n",
       "      <td>-1.495441</td>\n",
       "      <td>1.0</td>\n",
       "      <td>0.0</td>\n",
       "      <td>1.147661</td>\n",
       "      <td>-2.063189</td>\n",
       "      <td>0.0</td>\n",
       "      <td>0.0</td>\n",
       "      <td>1.014709</td>\n",
       "      <td>0.0</td>\n",
       "      <td>0.0</td>\n",
       "      <td>0.0</td>\n",
       "      <td>0.0</td>\n",
       "      <td>0.0</td>\n",
       "      <td>0.0</td>\n",
       "      <td>0.0</td>\n",
       "      <td>0.0</td>\n",
       "      <td>0.0</td>\n",
       "      <td>0.0</td>\n",
       "      <td>0.0</td>\n",
       "      <td>0.0</td>\n",
       "    </tr>\n",
       "    <tr>\n",
       "      <th>4</th>\n",
       "      <td>-0.173833</td>\n",
       "      <td>0.0</td>\n",
       "      <td>1.0</td>\n",
       "      <td>-0.576021</td>\n",
       "      <td>-0.361294</td>\n",
       "      <td>0.0</td>\n",
       "      <td>0.0</td>\n",
       "      <td>-0.606472</td>\n",
       "      <td>0.0</td>\n",
       "      <td>0.0</td>\n",
       "      <td>0.0</td>\n",
       "      <td>0.0</td>\n",
       "      <td>0.0</td>\n",
       "      <td>0.0</td>\n",
       "      <td>0.0</td>\n",
       "      <td>0.0</td>\n",
       "      <td>0.0</td>\n",
       "      <td>0.0</td>\n",
       "      <td>0.0</td>\n",
       "      <td>0.0</td>\n",
       "    </tr>\n",
       "  </tbody>\n",
       "</table>\n",
       "</div>"
      ],
      "text/plain": [
       "       size  rentType0  rentType1  restRoom   bedRoom  area151  region19  \\\n",
       "0  0.429006        0.0        1.0  1.147661  1.340602      0.0       0.0   \n",
       "1  0.266703        0.0        1.0  1.147661 -0.361294      0.0       0.0   \n",
       "2 -0.127461        0.0        1.0 -0.576021 -0.361294      0.0       0.0   \n",
       "3 -1.495441        1.0        0.0  1.147661 -2.063189      0.0       0.0   \n",
       "4 -0.173833        0.0        1.0 -0.576021 -0.361294      0.0       0.0   \n",
       "\n",
       "   totalRoom  area87  area80  region8  area44  area9  area121  region12  \\\n",
       "0   1.014709     0.0     0.0      0.0     0.0    0.0      0.0       0.0   \n",
       "1   0.474316     0.0     0.0      0.0     0.0    0.0      0.0       0.0   \n",
       "2  -0.606472     0.0     0.0      0.0     0.0    0.0      0.0       0.0   \n",
       "3   1.014709     0.0     0.0      0.0     0.0    0.0      0.0       0.0   \n",
       "4  -0.606472     0.0     0.0      0.0     0.0    0.0      0.0       0.0   \n",
       "\n",
       "   region21  area69  region7  area105  roomTowards60  \n",
       "0       0.0     0.0      0.0      0.0            0.0  \n",
       "1       0.0     0.0      0.0      0.0            0.0  \n",
       "2       0.0     0.0      0.0      0.0            0.0  \n",
       "3       0.0     0.0      0.0      0.0            0.0  \n",
       "4       0.0     0.0      0.0      0.0            0.0  "
      ]
     },
     "execution_count": 172,
     "metadata": {},
     "output_type": "execute_result"
    }
   ],
   "source": [
    "# 组合连续和离散特征,得到最终的全部特征\n",
    "X = pd.concat([cat_df, num_df], axis=1) \n",
    "y = df['value']\n",
    "\n",
    "from sklearn.feature_selection import f_regression\n",
    "# 特征选择，我们通过F-score值从全部特征中选择重要的特征\n",
    "F_score, p_value = f_regression(X, y)\n",
    "order = np.argsort(F_score)[::-1]\n",
    "print(order)\n",
    "print(\"特征重要性：\", X.columns[order])\n",
    "\n",
    "# 我们选择最重要的20个特征进行模型训练\n",
    "featrue_num = 20\n",
    "featrue_select = X.columns[order][:featrue_num]\n",
    "X = X[featrue_select]\n",
    "X.head(5)"
   ]
  },
  {
   "cell_type": "markdown",
   "metadata": {},
   "source": [
    "## 构造训练和测试数据"
   ]
  },
  {
   "cell_type": "code",
   "execution_count": 173,
   "metadata": {},
   "outputs": [
    {
     "name": "stdout",
     "output_type": "stream",
     "text": [
      "训练集X_train个数 : 24868 \t 特征个数: 20 \t 测试集X_test个数: 6217\n"
     ]
    }
   ],
   "source": [
    "from sklearn.model_selection import train_test_split\n",
    "\n",
    "# 切分训练集和测试集\n",
    "X_train, X_test, y_train, y_test = train_test_split(X, y, test_size=0.2, random_state=42)\n",
    "print(\"训练集X_train个数 :\", X_train.shape[0],\"\\t 特征个数:\", X_train.shape[1],\"\\t 测试集X_test个数:\", X_test.shape[0])"
   ]
  },
  {
   "cell_type": "markdown",
   "metadata": {},
   "source": [
    "# 模型训练"
   ]
  },
  {
   "cell_type": "markdown",
   "metadata": {},
   "source": [
    "### LightGBM"
   ]
  },
  {
   "cell_type": "code",
   "execution_count": 175,
   "metadata": {},
   "outputs": [
    {
     "name": "stdout",
     "output_type": "stream",
     "text": [
      "LGBMRegressor(boosting_type='gbdt', class_weight=None, colsample_bytree=0.8,\n",
      "              importance_type='split', is_unbalance=True, learning_rate=0.01,\n",
      "              max_depth=-1, min_child_samples=20, min_child_weight=0.001,\n",
      "              min_split_gain=0.0, n_estimators=500, n_jobs=-1, num_leaves=127,\n",
      "              objective='regression', random_state=888, reg_alpha=0.0,\n",
      "              reg_lambda=0.0, silent=True, subsample=0.8,\n",
      "              subsample_for_bin=200000, subsample_freq=1)\n",
      "真实值(前10个) [4700.0, 816.0, 2400.0, 2300.0, 2300.0, 1800.0, 2500.0, 4400.0, 1900.0, 2500.0]\n",
      "预测值(前10个) [4623.93965746  889.89071589 2422.57262023 1902.89937048 2501.87475205\n",
      " 1558.90772966 2805.80030318 4174.13508172 1807.30221939 3090.5616826 ]\n",
      "LGBMRegressor: \n",
      " MAE: 630.1890445736294 \tMSE: 1754254.0262081032\n"
     ]
    }
   ],
   "source": [
    "# LightGBM\n",
    "from lightgbm import LGBMRegressor\n",
    "from sklearn.metrics import mean_absolute_error, mean_squared_error\n",
    "\n",
    "clf = LGBMRegressor(\n",
    "    boosting_type='gbdt',\n",
    "    objective='regression',\n",
    "    max_depth=-1,\n",
    "    num_leaves=2 ** 7 - 1,\n",
    "    learning_rate=0.01,\n",
    "    n_estimators=500,\n",
    "    min_split_gain=0.0,\n",
    "    min_child_weight=0.001,\n",
    "    subsample=0.8,\n",
    "    subsample_freq=1,\n",
    "    colsample_bytree=0.8,\n",
    "    reg_alpha=0.0,\n",
    "    reg_lambda=0.0,\n",
    "    is_unbalance=True,\n",
    "    random_state=888,\n",
    "    n_jobs=-1,\n",
    ")\n",
    "\n",
    "print(clf)\n",
    "clf.fit(X_train,y_train)\n",
    "y_pred = clf.predict(X_test)\n",
    "print(\"真实值(前10个)\", list(y_test)[:10])\n",
    "print(\"预测值(前10个)\", y_pred[:10])\n",
    "print(\"LGBMRegressor: \\n\",\"MAE:\",mean_absolute_error(y_test, y_pred),\"\\tMSE:\",mean_squared_error(y_test, y_pred))"
   ]
  },
  {
   "cell_type": "markdown",
   "metadata": {},
   "source": [
    "### 支持向量机 Support Vector Regression"
   ]
  },
  {
   "cell_type": "code",
   "execution_count": null,
   "metadata": {},
   "outputs": [],
   "source": [
    "# Epsilon-Support Vector Regression.\n",
    "from sklearn.svm import SVR\n",
    "from sklearn.model_selection import GridSearchCV\n",
    "\n",
    "param_grid = [\n",
    "    {\"C\": [1,10,100,1000], 'kernel': ['linear']},\n",
    "    {'C': [1,10,100,1000], 'gamma': [0.001, 0.0001], 'kernel':['rbf']},\n",
    "]\n",
    "\n",
    "SVR = SVR()\n",
    "\n",
    "clf = GridSearchCV(SVR , param_grid ,cv = 5)\n",
    "clf.fit(X_train,y_train)\n",
    "# 对测试集进行预测\n",
    "print(clf)\n",
    "clf.fit(X_train,y_train)\n",
    "y_pred = clf.predict(X_test)\n",
    "print(\"真实值(前10个)\", list(y_test)[:10])\n",
    "print(\"预测值(前10个)\", y_pred[:10])\n",
    "print(\"SVR: \\n\",\"MAE:\",mean_absolute_error(y_test, y_pred),\"\\tMSE:\",mean_squared_error(y_test, y_pred))"
   ]
  },
  {
   "cell_type": "markdown",
   "metadata": {},
   "source": [
    "### 随机森林 RandomForestRegressor"
   ]
  },
  {
   "cell_type": "code",
   "execution_count": 176,
   "metadata": {},
   "outputs": [
    {
     "name": "stdout",
     "output_type": "stream",
     "text": [
      "RandomForestRegressor(bootstrap=True, ccp_alpha=0.0, criterion='mse',\n",
      "                      max_depth=None, max_features='auto', max_leaf_nodes=None,\n",
      "                      max_samples=None, min_impurity_decrease=0.0,\n",
      "                      min_impurity_split=None, min_samples_leaf=1,\n",
      "                      min_samples_split=2, min_weight_fraction_leaf=0.0,\n",
      "                      n_estimators=100, n_jobs=None, oob_score=False,\n",
      "                      random_state=None, verbose=0, warm_start=False)\n",
      "真实值(前10个) [4700.0, 816.0, 2400.0, 2300.0, 2300.0, 1800.0, 2500.0, 4400.0, 1900.0, 2500.0]\n",
      "预测值(前10个) [4856.07012987  911.31814519 2652.62150987 2074.50561938 2885.09675325\n",
      " 1792.46881244 2417.75434744 4360.36103389 1715.66932822 2644.1218032 ]\n",
      "RandomForestRegressor: \n",
      " MAE: 553.8859954229059 \tMSE: 1624581.79745573\n"
     ]
    }
   ],
   "source": [
    "# 随机森林 RandomForestRegressor\n",
    "from sklearn.ensemble import RandomForestRegressor\n",
    "from sklearn.metrics import mean_absolute_error, mean_squared_error\n",
    "\n",
    "clf = RandomForestRegressor()\n",
    "\n",
    "print(clf)\n",
    "clf.fit(X_train,y_train)\n",
    "y_pred = clf.predict(X_test)\n",
    "print(\"真实值(前10个)\", list(y_test)[:10])\n",
    "print(\"预测值(前10个)\", y_pred[:10])\n",
    "print(\"RandomForestRegressor: \\n\",\"MAE:\",mean_absolute_error(y_test, y_pred),\"\\tMSE:\",mean_squared_error(y_test, y_pred))"
   ]
  },
  {
   "cell_type": "markdown",
   "metadata": {},
   "source": [
    "### XGBRegressor"
   ]
  },
  {
   "cell_type": "code",
   "execution_count": 177,
   "metadata": {},
   "outputs": [
    {
     "name": "stdout",
     "output_type": "stream",
     "text": [
      "[22:24:31] WARNING: C:/Users/Administrator/workspace/xgboost-win64_release_1.3.0/src/learner.cc:541: \n",
      "Parameters: { silent } might not be used.\n",
      "\n",
      "  This may not be accurate due to some parameters are only used in language bindings but\n",
      "  passed down to XGBoost core.  Or some parameters are not used but slip through this\n",
      "  verification. Please open an issue if you find above cases.\n",
      "\n",
      "\n",
      "XGBRegressor(base_score=0.5, booster='gbtree', colsample_bylevel=1,\n",
      "             colsample_bynode=1, colsample_bytree=1, gamma=0, gpu_id=-1,\n",
      "             importance_type='gain', interaction_constraints='',\n",
      "             learning_rate=0.1, max_delta_step=0, max_depth=5,\n",
      "             min_child_weight=1, missing=nan, monotone_constraints='()',\n",
      "             n_estimators=160, n_jobs=16, num_parallel_tree=1,\n",
      "             objective='reg:gamma', random_state=0, reg_alpha=0, reg_lambda=1,\n",
      "             scale_pos_weight=None, silent=True, subsample=1,\n",
      "             tree_method='exact', validate_parameters=1, verbosity=None)\n",
      "[22:24:32] WARNING: C:/Users/Administrator/workspace/xgboost-win64_release_1.3.0/src/learner.cc:541: \n",
      "Parameters: { silent } might not be used.\n",
      "\n",
      "  This may not be accurate due to some parameters are only used in language bindings but\n",
      "  passed down to XGBoost core.  Or some parameters are not used but slip through this\n",
      "  verification. Please open an issue if you find above cases.\n",
      "\n",
      "\n",
      "真实值(前10个) [4693.504, 872.7431, 2346.9062, 1827.5006, 2791.5715, 1539.8398, 2808.0984, 3231.3494, 1729.6356, 3231.3494]\n",
      "预测值(前10个) [4693.504   872.7431 2346.9062 1827.5006 2791.5715 1539.8398 2808.0984\n",
      " 3231.3494 1729.6356 3231.3494]\n",
      "XGBRegressor: \n",
      " MAE: 653.5693331729861 \tMSE: 1859120.3624158653\n"
     ]
    }
   ],
   "source": [
    "# XGBRegressor\n",
    "import xgboost as xgb\n",
    "from sklearn.metrics import mean_absolute_error, mean_squared_error\n",
    "\n",
    "clf = xgb.XGBRegressor(max_depth=5,learning_rate=0.1,n_estimators=160,\n",
    "                             silent=True,objective='reg:gamma')\n",
    "\n",
    "clf.fit(X_train,y_train)\n",
    "# 对测试集进行预测\n",
    "print(clf)\n",
    "clf.fit(X_train,y_train)\n",
    "xgb_pred = clf.predict(X_test)\n",
    "print(\"真实值(前10个)\", list(xgb_pred)[:10])\n",
    "print(\"预测值(前10个)\", xgb_pred[:10])\n",
    "print(\"XGBRegressor: \\n\",\"MAE:\",mean_absolute_error(y_test, xgb_pred),\"\\tMSE:\",mean_squared_error(y_test, xgb_pred))"
   ]
  },
  {
   "cell_type": "markdown",
   "metadata": {},
   "source": [
    "### 多元线性回归 LinearRegression\n",
    "因为租赁价格和各个变量不是呈简单的线性关系，所以用多元线性模型拟合效果会比较差"
   ]
  },
  {
   "cell_type": "code",
   "execution_count": 178,
   "metadata": {},
   "outputs": [
    {
     "name": "stdout",
     "output_type": "stream",
     "text": [
      "[1306.33017884  194.03901692  121.61561032  376.43534627   83.1938258\n",
      " 2606.70922791  347.28195178 -376.11571267 1756.65504397 1359.66447255\n",
      "  503.39915441 1916.94581644 2583.49146632 1042.54374459 -698.71380826\n",
      " -837.55978515 1100.75297837 -918.56078164   19.97008308 2418.48393973] 2285.4472467273313\n",
      "真实值(前10个) [4510.9495682951765, 697.7052557991224, 2100.6141405142703, 2029.0423009304402, 2733.9384606348926, 876.6737468879919, 3531.9114683830453, 3370.0012404903337, 1423.268224877639, 3430.578648095614]\n",
      "预测值(前10个) [4510.9495683   697.7052558  2100.61414051 2029.04230093 2733.93846063\n",
      "  876.67374689 3531.91146838 3370.00124049 1423.26822488 3430.5786481 ]\n",
      "LinearRegression: \n",
      " MAE: 863.5481031676122 \tMSE: 2523149.8938643276 \n",
      "\n",
      "线性回归表达式为:  Value = 2285.447 + 1306.330 * size + 194.039 * rentType0 + 121.616 * rentType1 + 376.435 * restRoom + 83.194 * bedRoom + 2606.709 * area151 + 347.282 * region19 + -376.116 * totalRoom + 1756.655 * area87 + 1359.664 * area80 + 503.399 * region8 + 1916.946 * area44 + 2583.491 * area9 + 1042.544 * area121 + -698.714 * region12 + -837.560 * region21 + 1100.753 * area69 + -918.561 * region7 + 19.970 * area105 + 2418.484 * roomTowards60\n"
     ]
    }
   ],
   "source": [
    "from sklearn.linear_model import LinearRegression\n",
    "from sklearn.metrics import mean_absolute_error, mean_squared_error\n",
    "\n",
    "clf = LinearRegression()\n",
    "# 对测试集进行预测\n",
    "clf.fit(X_train,y_train)\n",
    "\n",
    "print(clf.coef_, clf.intercept_)\n",
    "linear_pred = clf.predict(X_test)\n",
    "print(\"真实值(前10个)\", list(linear_pred)[:10])\n",
    "print(\"预测值(前10个)\", linear_pred[:10])\n",
    "print(\"LinearRegression: \\n\",\"MAE:\",mean_absolute_error(y_test, linear_pred),\"\\tMSE:\",mean_squared_error(y_test, linear_pred),\"\\n\")\n",
    "\n",
    "expression = \"Value = {:.3f}\".format(clf.intercept_)\n",
    "for coef, col_name in zip(clf.coef_, X_train.columns):\n",
    "    expression += \" + {:.3f} * {}\".format(coef, col_name)\n",
    "print(\"线性回归表达式为: \", expression)"
   ]
  },
  {
   "cell_type": "markdown",
   "metadata": {},
   "source": [
    "### 神经网络 DNN"
   ]
  },
  {
   "cell_type": "code",
   "execution_count": 179,
   "metadata": {},
   "outputs": [
    {
     "name": "stdout",
     "output_type": "stream",
     "text": [
      "Model: \"sequential_1\"\n",
      "_________________________________________________________________\n",
      "Layer (type)                 Output Shape              Param #   \n",
      "=================================================================\n",
      "layer1 (Dense)               (None, 100)               2100      \n",
      "_________________________________________________________________\n",
      "layer2 (Dense)               (None, 100)               10100     \n",
      "_________________________________________________________________\n",
      "layer3 (Dense)               (None, 1)                 101       \n",
      "=================================================================\n",
      "Total params: 12,301\n",
      "Trainable params: 12,301\n",
      "Non-trainable params: 0\n",
      "_________________________________________________________________\n",
      "None\n",
      "Epoch 1/100\n",
      "389/389 [==============================] - 1s 884us/step - loss: 9922326.5949\n",
      "Epoch 2/100\n",
      "389/389 [==============================] - 0s 998us/step - loss: 2759805.8071\n",
      "Epoch 3/100\n",
      "389/389 [==============================] - 0s 966us/step - loss: 2307633.5622\n",
      "Epoch 4/100\n",
      "389/389 [==============================] - 0s 838us/step - loss: 2400605.3104\n",
      "Epoch 5/100\n",
      "389/389 [==============================] - 0s 833us/step - loss: 2157661.3135\n",
      "Epoch 6/100\n",
      "389/389 [==============================] - 0s 848us/step - loss: 2308305.7035\n",
      "Epoch 7/100\n",
      "389/389 [==============================] - 0s 851us/step - loss: 1992129.1562\n",
      "Epoch 8/100\n",
      "389/389 [==============================] - 0s 844us/step - loss: 2283179.4689\n",
      "Epoch 9/100\n",
      "389/389 [==============================] - 0s 856us/step - loss: 2156602.7122\n",
      "Epoch 10/100\n",
      "389/389 [==============================] - 0s 856us/step - loss: 1967463.7099\n",
      "Epoch 11/100\n",
      "389/389 [==============================] - 0s 858us/step - loss: 2005056.1917\n",
      "Epoch 12/100\n",
      "389/389 [==============================] - 0s 859us/step - loss: 2281290.0245\n",
      "Epoch 13/100\n",
      "389/389 [==============================] - 0s 848us/step - loss: 2149730.0747\n",
      "Epoch 14/100\n",
      "389/389 [==============================] - 0s 865us/step - loss: 1840854.0285\n",
      "Epoch 15/100\n",
      "389/389 [==============================] - 0s 861us/step - loss: 1899822.3497\n",
      "Epoch 16/100\n",
      "389/389 [==============================] - 0s 923us/step - loss: 1984201.6256\n",
      "Epoch 17/100\n",
      "389/389 [==============================] - 0s 1ms/step - loss: 1871698.8077\n",
      "Epoch 18/100\n",
      "389/389 [==============================] - 0s 895us/step - loss: 2116442.5532\n",
      "Epoch 19/100\n",
      "389/389 [==============================] - 0s 897us/step - loss: 1768456.6997\n",
      "Epoch 20/100\n",
      "389/389 [==============================] - 0s 928us/step - loss: 1841938.9301\n",
      "Epoch 21/100\n",
      "389/389 [==============================] - 0s 913us/step - loss: 1948444.8532\n",
      "Epoch 22/100\n",
      "389/389 [==============================] - 0s 877us/step - loss: 1720540.9947\n",
      "Epoch 23/100\n",
      "389/389 [==============================] - 0s 912us/step - loss: 1904131.5965\n",
      "Epoch 24/100\n",
      "389/389 [==============================] - 0s 856us/step - loss: 1748371.0631\n",
      "Epoch 25/100\n",
      "389/389 [==============================] - 0s 904us/step - loss: 2186479.2571\n",
      "Epoch 26/100\n",
      "389/389 [==============================] - 0s 876us/step - loss: 1874668.4998\n",
      "Epoch 27/100\n",
      "389/389 [==============================] - 0s 869us/step - loss: 2067584.0221\n",
      "Epoch 28/100\n",
      "389/389 [==============================] - 0s 925us/step - loss: 1621858.5933\n",
      "Epoch 29/100\n",
      "389/389 [==============================] - 0s 962us/step - loss: 2195445.7437\n",
      "Epoch 30/100\n",
      "389/389 [==============================] - 0s 1ms/step - loss: 2156276.8072\n",
      "Epoch 31/100\n",
      "389/389 [==============================] - 0s 1ms/step - loss: 2121496.9705\n",
      "Epoch 32/100\n",
      "389/389 [==============================] - 0s 853us/step - loss: 1868061.6998\n",
      "Epoch 33/100\n",
      "389/389 [==============================] - 0s 881us/step - loss: 1852722.8888\n",
      "Epoch 34/100\n",
      "389/389 [==============================] - 0s 895us/step - loss: 1860449.0010\n",
      "Epoch 35/100\n",
      "389/389 [==============================] - 0s 856us/step - loss: 1709696.1128\n",
      "Epoch 36/100\n",
      "389/389 [==============================] - 0s 902us/step - loss: 1762710.9566\n",
      "Epoch 37/100\n",
      "389/389 [==============================] - 0s 869us/step - loss: 2054204.2909\n",
      "Epoch 38/100\n",
      "389/389 [==============================] - 0s 866us/step - loss: 1832872.7492\n",
      "Epoch 39/100\n",
      "389/389 [==============================] - 0s 892us/step - loss: 2010136.4136\n",
      "Epoch 40/100\n",
      "389/389 [==============================] - 0s 861us/step - loss: 1934737.7856\n",
      "Epoch 41/100\n",
      "389/389 [==============================] - 0s 863us/step - loss: 1941439.4048\n",
      "Epoch 42/100\n",
      "389/389 [==============================] - 0s 882us/step - loss: 1695775.1429\n",
      "Epoch 43/100\n",
      "389/389 [==============================] - 0s 874us/step - loss: 1765975.5821\n",
      "Epoch 44/100\n",
      "389/389 [==============================] - 0s 949us/step - loss: 2049083.9667\n",
      "Epoch 45/100\n",
      "389/389 [==============================] - 0s 1ms/step - loss: 1855958.6167\n",
      "Epoch 46/100\n",
      "389/389 [==============================] - 0s 920us/step - loss: 1712586.7006\n",
      "Epoch 47/100\n",
      "389/389 [==============================] - 0s 853us/step - loss: 1902712.3875\n",
      "Epoch 48/100\n",
      "389/389 [==============================] - 0s 851us/step - loss: 1696144.1551\n",
      "Epoch 49/100\n",
      "389/389 [==============================] - 0s 870us/step - loss: 1966416.4199\n",
      "Epoch 50/100\n",
      "389/389 [==============================] - 0s 889us/step - loss: 1771693.9776\n",
      "Epoch 51/100\n",
      "389/389 [==============================] - 0s 862us/step - loss: 1735513.8779\n",
      "Epoch 52/100\n",
      "389/389 [==============================] - 0s 874us/step - loss: 2029546.5207\n",
      "Epoch 53/100\n",
      "389/389 [==============================] - 0s 892us/step - loss: 2019508.4837\n",
      "Epoch 54/100\n",
      "389/389 [==============================] - 0s 846us/step - loss: 1973266.3330\n",
      "Epoch 55/100\n",
      "389/389 [==============================] - 0s 910us/step - loss: 1821173.5045\n",
      "Epoch 56/100\n",
      "389/389 [==============================] - 0s 856us/step - loss: 1922829.9314\n",
      "Epoch 57/100\n",
      "389/389 [==============================] - 0s 931us/step - loss: 1840555.5951\n",
      "Epoch 58/100\n",
      "389/389 [==============================] - 0s 882us/step - loss: 1731634.0742\n",
      "Epoch 59/100\n",
      "389/389 [==============================] - 0s 1ms/step - loss: 1702622.8625\n",
      "Epoch 60/100\n",
      "389/389 [==============================] - 0s 995us/step - loss: 1802979.8564\n",
      "Epoch 61/100\n",
      "389/389 [==============================] - 0s 927us/step - loss: 1880890.6744\n",
      "Epoch 62/100\n",
      "389/389 [==============================] - 0s 1ms/step - loss: 1671675.0881\n",
      "Epoch 63/100\n",
      "389/389 [==============================] - 0s 902us/step - loss: 1678526.0282\n",
      "Epoch 64/100\n",
      "389/389 [==============================] - 0s 869us/step - loss: 1791980.5532\n",
      "Epoch 65/100\n",
      "389/389 [==============================] - 0s 856us/step - loss: 1801295.6990\n",
      "Epoch 66/100\n",
      "389/389 [==============================] - 0s 843us/step - loss: 1870906.4865\n",
      "Epoch 67/100\n",
      "389/389 [==============================] - 0s 830us/step - loss: 1660192.4438\n",
      "Epoch 68/100\n",
      "389/389 [==============================] - 0s 878us/step - loss: 1722818.4266\n",
      "Epoch 69/100\n",
      "389/389 [==============================] - 0s 962us/step - loss: 1793007.6240\n",
      "Epoch 70/100\n",
      "389/389 [==============================] - 0s 897us/step - loss: 1803492.3482\n",
      "Epoch 71/100\n",
      "389/389 [==============================] - 0s 861us/step - loss: 1839649.6562\n",
      "Epoch 72/100\n",
      "389/389 [==============================] - 0s 951us/step - loss: 1707683.5426\n",
      "Epoch 73/100\n",
      "389/389 [==============================] - 0s 1ms/step - loss: 1863038.6583\n",
      "Epoch 74/100\n",
      "389/389 [==============================] - 0s 1ms/step - loss: 1925981.8550\n",
      "Epoch 75/100\n",
      "389/389 [==============================] - 0s 887us/step - loss: 1790835.9096\n",
      "Epoch 76/100\n",
      "389/389 [==============================] - 0s 842us/step - loss: 1742491.4726\n",
      "Epoch 77/100\n",
      "389/389 [==============================] - 0s 864us/step - loss: 1765867.7370\n",
      "Epoch 78/100\n",
      "389/389 [==============================] - 0s 846us/step - loss: 2036827.3824\n",
      "Epoch 79/100\n",
      "389/389 [==============================] - 0s 879us/step - loss: 1894701.4292\n",
      "Epoch 80/100\n",
      "389/389 [==============================] - 0s 840us/step - loss: 1859781.5205\n",
      "Epoch 81/100\n",
      "389/389 [==============================] - 0s 851us/step - loss: 1833936.9788\n",
      "Epoch 82/100\n",
      "389/389 [==============================] - 0s 1ms/step - loss: 1666942.1651\n",
      "Epoch 83/100\n"
     ]
    },
    {
     "name": "stdout",
     "output_type": "stream",
     "text": [
      "389/389 [==============================] - 0s 869us/step - loss: 1765292.7605\n",
      "Epoch 84/100\n",
      "389/389 [==============================] - 0s 884us/step - loss: 1610673.0865\n",
      "Epoch 85/100\n",
      "389/389 [==============================] - 0s 928us/step - loss: 1640706.4779\n",
      "Epoch 86/100\n",
      "389/389 [==============================] - 0s 861us/step - loss: 1695544.2812\n",
      "Epoch 87/100\n",
      "389/389 [==============================] - 0s 974us/step - loss: 1650659.5139\n",
      "Epoch 88/100\n",
      "389/389 [==============================] - 0s 993us/step - loss: 1696638.0237\n",
      "Epoch 89/100\n",
      "389/389 [==============================] - 0s 895us/step - loss: 1583726.5881\n",
      "Epoch 90/100\n",
      "389/389 [==============================] - 0s 878us/step - loss: 1975707.4510\n",
      "Epoch 91/100\n",
      "389/389 [==============================] - 0s 871us/step - loss: 1788754.4926\n",
      "Epoch 92/100\n",
      "389/389 [==============================] - 0s 861us/step - loss: 1806256.6285\n",
      "Epoch 93/100\n",
      "389/389 [==============================] - 0s 886us/step - loss: 1985820.3599\n",
      "Epoch 94/100\n",
      "389/389 [==============================] - 0s 876us/step - loss: 1578324.6001\n",
      "Epoch 95/100\n",
      "389/389 [==============================] - 0s 846us/step - loss: 1676208.0875\n",
      "Epoch 96/100\n",
      "389/389 [==============================] - 0s 886us/step - loss: 1685184.3851\n",
      "Epoch 97/100\n",
      "389/389 [==============================] - 0s 884us/step - loss: 1718424.0744\n",
      "Epoch 98/100\n",
      "389/389 [==============================] - 0s 848us/step - loss: 1863422.6873\n",
      "Epoch 99/100\n",
      "389/389 [==============================] - 0s 892us/step - loss: 1871243.9269\n",
      "Epoch 100/100\n",
      "389/389 [==============================] - 0s 864us/step - loss: 1908971.9822\n",
      "真实值(前10个) [array([4208.315], dtype=float32), array([901.903], dtype=float32), array([2323.8386], dtype=float32), array([1902.3037], dtype=float32), array([3089.4326], dtype=float32), array([1597.8914], dtype=float32), array([2981.4663], dtype=float32), array([3308.548], dtype=float32), array([1816.3284], dtype=float32), array([3327.2607], dtype=float32)]\n",
      "预测值(前10个) [[4208.315 ]\n",
      " [ 901.903 ]\n",
      " [2323.8386]\n",
      " [1902.3037]\n",
      " [3089.4326]\n",
      " [1597.8914]\n",
      " [2981.4663]\n",
      " [3308.548 ]\n",
      " [1816.3284]\n",
      " [3327.2607]]\n",
      "MLP: \n",
      " MAE: 679.6859587705947 \tMSE: 1897128.0523711639\n"
     ]
    }
   ],
   "source": [
    "import tensorflow as tf\n",
    "from tensorflow import keras\n",
    "import matplotlib.pyplot as plt\n",
    "import numpy as np\n",
    "from sklearn.metrics import mean_absolute_error, mean_squared_error\n",
    "\n",
    "# 全连接神经网络,两个隐藏层，隐藏层神经元个数为[100,100]\n",
    "model = keras.Sequential(\n",
    "    [\n",
    "        keras.layers.Dense(100, activation=\"relu\", name=\"layer1\", input_shape=(X_train.shape[1],)),\n",
    "        keras.layers.Dense(100, activation=\"relu\", name=\"layer2\"),\n",
    "        keras.layers.Dense(1, name=\"layer3\"),\n",
    "    ]\n",
    ")\n",
    "\n",
    "model.compile(optimizer='adam',\n",
    "              loss='mean_squared_error')\n",
    "print(model.summary())\n",
    "history = model.fit(X_train,y_train,epochs=100,batch_size=64)\n",
    "dnn_pred = model.predict(X_test)\n",
    "print(\"真实值(前10个)\", list(dnn_pred)[:10])\n",
    "print(\"预测值(前10个)\", dnn_pred[:10])\n",
    "print(\"MLP: \\n\",\"MAE:\",mean_absolute_error(y_test, dnn_pred),\"\\tMSE:\",mean_squared_error(y_test, dnn_pred))"
   ]
  },
  {
   "cell_type": "code",
   "execution_count": 181,
   "metadata": {},
   "outputs": [
    {
     "data": {
      "image/png": "[encoded data removed]",
      "text/plain": [
       "<Figure size 720x432 with 1 Axes>"
      ]
     },
     "metadata": {
      "needs_background": "light"
     },
     "output_type": "display_data"
    }
   ],
   "source": [
    "# 随着迭代次数的变化，loss（MSE）的下降过程\n",
    "def plot_learning_curves(history):\n",
    "    pd.DataFrame(history.history).plot(figsize=(10, 6))\n",
    "    plt.grid(True)\n",
    "    plt.show()\n",
    "\n",
    "plot_learning_curves(history)"
   ]
  },
  {
   "cell_type": "code",
   "execution_count": 183,
   "metadata": {},
   "outputs": [
    {
     "data": {
      "text/plain": [
       "<matplotlib.legend.Legend at 0x277c53402e8>"
      ]
     },
     "execution_count": 183,
     "metadata": {},
     "output_type": "execute_result"
    },
    {
     "data": {
      "image/png": "[encoded data removed]",
      "text/plain": [
       "<Figure size 1080x504 with 1 Axes>"
      ]
     },
     "metadata": {
      "needs_background": "light"
     },
     "output_type": "display_data"
    }
   ],
   "source": [
    "#通过绘制出真实值与DNN预测值、XGB预测值、线性回归预测值，观察模型的拟合情况\n",
    "plt.rc('font', family='Times New Roman')\n",
    "plt.figure(figsize = (15,7))\n",
    "\n",
    "plt.plot(y_test.tolist()[0:100],label = \"True\",color = \"r\",marker = \"o\",linewidth=0.5, markersize=5)\n",
    "plt.plot(dnn_pred.tolist()[0:100],label = \"DNN Predict\",color = \"g\",marker = \"o\",linewidth=0.5, markersize=4)\n",
    "plt.plot(xgb_pred[0:100],label = \"Xgboost Predict\",color = \"b\",marker = \"o\",linewidth=0.5, markersize=4)\n",
    "plt.plot(linear_pred[0:100],label = \"Linear Predict\",color = \"c\",marker = \"o\",linewidth=0.5, markersize=4)\n",
    "plt.xlabel(\"Test Data Index\",fontsize=15)\n",
    "plt.ylabel(\"Value\",fontsize=15)\n",
    "\n",
    "plt.xticks(fontsize=15)\n",
    "plt.yticks(fontsize=15)\n",
    "plt.legend(fontsize=15)\n",
    "\n",
    "# 可以看到DNN、XGBOOST拟合都很好，Linear回归拟合不够好，因为模型太简单了，不能拟合非线性关系。"
   ]
  },
  {
   "cell_type": "markdown",
   "metadata": {},
   "source": [
    "### 特征重要性"
   ]
  },
  {
   "cell_type": "code",
   "execution_count": 184,
   "metadata": {},
   "outputs": [
    {
     "data": {
      "image/png": "[encoded data removed]",
      "text/plain": [
       "<Figure size 1512x288 with 1 Axes>"
      ]
     },
     "metadata": {},
     "output_type": "display_data"
    },
    {
     "name": "stdout",
     "output_type": "stream",
     "text": [
      "size 0.666178866631679\n",
      "rentType0 0.007144659960402729\n",
      "rentType1 0.006944127849556549\n",
      "restRoom 0.050532893854612536\n",
      "bedRoom 0.020358829674294074\n",
      "area151 0.024271823083199248\n",
      "region19 0.04346475981367345\n",
      "totalRoom 0.0706385381199873\n",
      "area87 0.007046086514903657\n",
      "area80 0.01358459302245137\n",
      "region8 0.018130714323868313\n",
      "area44 0.02577990932276596\n",
      "area9 0.016375016342445183\n",
      "area121 0.009341498619705731\n",
      "region12 0.006182311634416014\n",
      "region21 0.006610331968603356\n",
      "area69 0.0033590300566704806\n",
      "region7 0.003409375234702186\n",
      "area105 0.0005658559494903757\n",
      "roomTowards60 8.07780225725086e-05\n"
     ]
    }
   ],
   "source": [
    "from sklearn.ensemble import RandomForestRegressor\n",
    "clf = RandomForestRegressor(n_estimators=10,n_jobs=2)\n",
    "clf.fit(X_train, y_train)\n",
    "predict = clf.predict(X_train)\n",
    "features = X_train.columns\n",
    "feature_importances = clf.feature_importances_\n",
    "features_df = pd.DataFrame({'Features':features,'Importance':feature_importances})\n",
    "features_df.sort_values('Importance',inplace=True,ascending=False)\n",
    "\n",
    "import seaborn as sns\n",
    "import matplotlib.pyplot as plt\n",
    "\n",
    "sns.set(rc={\"figure.figsize\": (21, 4)})\n",
    "sns.barplot(features_df['Features'][:10], features_df['Importance'][:10],)\n",
    "plt.ylabel('Word count')\n",
    "# 柱状图\n",
    "sns.despine(bottom=True)\n",
    "plt.show()\n",
    "\n",
    "for col,importance in zip(features,feature_importances):\n",
    "    print(col,importance)\n",
    "# 可以看到size、房间总数是最要重要的几个特征"
   ]
  },
  {
   "cell_type": "code",
   "execution_count": 1,
   "metadata": {},
   "outputs": [
    {
     "data": {
      "text/plain": [
       "\"模型保存\\nfrom sklearn.externals import joblib\\njoblib.dump(clf, 'filename.pkl') \\nclf = joblib.load('filename.pkl') \\n\""
      ]
     },
     "execution_count": 1,
     "metadata": {},
     "output_type": "execute_result"
    }
   ],
   "source": [
    "\"\"\"模型保存\n",
    ">>> from sklearn.externals import joblib\n",
    ">>> joblib.dump(clf, 'filename.pkl') \n",
    ">>> clf = joblib.load('filename.pkl') \n",
    "\"\"\""
   ]
  }
 ],
 "metadata": {
  "kernelspec": {
   "display_name": "Python 3",
   "language": "python",
   "name": "python3"
  },
  "language_info": {
   "codemirror_mode": {
    "name": "ipython",
    "version": 3
   },
   "file_extension": ".py",
   "mimetype": "text/x-python",
   "name": "python",
   "nbconvert_exporter": "python",
   "pygments_lexer": "ipython3",
   "version": "3.7.0"
  }
 },
 "nbformat": 4,
 "nbformat_minor": 2
}
